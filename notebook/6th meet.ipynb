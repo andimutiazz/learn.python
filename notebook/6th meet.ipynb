{
 "cells": [
  {
   "cell_type": "code",
   "execution_count": 4,
   "id": "782bcdef-7357-4e2b-8d13-5bc600d2e9dc",
   "metadata": {},
   "outputs": [],
   "source": [
    "import numpy as np"
   ]
  },
  {
   "cell_type": "code",
   "execution_count": 11,
   "id": "a8272aca-b135-4dda-ab3e-48cca25a8f5c",
   "metadata": {},
   "outputs": [],
   "source": [
    "mtx1 = np.array([[1, 2, 3, 4],\n",
    "                [5, 6, 7, 8],\n",
    "                [9, 10, 11, 12]])"
   ]
  },
  {
   "cell_type": "code",
   "execution_count": 12,
   "id": "4d3efb92-cde1-4b8b-99e8-c2fdf4064153",
   "metadata": {},
   "outputs": [],
   "source": [
    "mtx2 = np.array([[11, 12, 13, 14],\n",
    "                 [15, 16, 17, 18],\n",
    "                 [19, 20, 21, 22]])"
   ]
  },
  {
   "cell_type": "code",
   "execution_count": 13,
   "id": "c316f84a-9efd-4fd8-91a5-22c3015f8029",
   "metadata": {},
   "outputs": [
    {
     "data": {
      "text/plain": [
       "array([[12, 14, 16, 18],\n",
       "       [20, 22, 24, 26],\n",
       "       [28, 30, 32, 34]])"
      ]
     },
     "execution_count": 13,
     "metadata": {},
     "output_type": "execute_result"
    }
   ],
   "source": [
    "mtx1 + mtx2"
   ]
  },
  {
   "cell_type": "code",
   "execution_count": 14,
   "id": "88eac34c-f3a3-4f59-8e23-33ce86095edd",
   "metadata": {},
   "outputs": [
    {
     "data": {
      "text/plain": [
       "array([[-10, -10, -10, -10],\n",
       "       [-10, -10, -10, -10],\n",
       "       [-10, -10, -10, -10]])"
      ]
     },
     "execution_count": 14,
     "metadata": {},
     "output_type": "execute_result"
    }
   ],
   "source": [
    "mtx1 - mtx2"
   ]
  },
  {
   "cell_type": "code",
   "execution_count": 15,
   "id": "0d755ff8-d959-4cef-8023-0c3fecf8ead4",
   "metadata": {},
   "outputs": [
    {
     "data": {
      "text/plain": [
       "array([[ 11,  24,  39,  56],\n",
       "       [ 75,  96, 119, 144],\n",
       "       [171, 200, 231, 264]])"
      ]
     },
     "execution_count": 15,
     "metadata": {},
     "output_type": "execute_result"
    }
   ],
   "source": [
    "mtx1 * mtx2"
   ]
  },
  {
   "cell_type": "code",
   "execution_count": 16,
   "id": "beca149e-53b9-41c7-af81-28e48ae67177",
   "metadata": {},
   "outputs": [
    {
     "data": {
      "text/plain": [
       "array([[0.09090909, 0.16666667, 0.23076923, 0.28571429],\n",
       "       [0.33333333, 0.375     , 0.41176471, 0.44444444],\n",
       "       [0.47368421, 0.5       , 0.52380952, 0.54545455]])"
      ]
     },
     "execution_count": 16,
     "metadata": {},
     "output_type": "execute_result"
    }
   ],
   "source": [
    "mtx1 / mtx2"
   ]
  },
  {
   "cell_type": "code",
   "execution_count": 17,
   "id": "03369551-1fce-4509-a6a2-55935b11211e",
   "metadata": {},
   "outputs": [],
   "source": [
    "mtx3 = ([[15, 16, 17],\n",
    "         [18, 19, 20]])"
   ]
  },
  {
   "cell_type": "code",
   "execution_count": 22,
   "id": "6e5d2652-4563-4670-9e6a-68d93cc924b3",
   "metadata": {},
   "outputs": [
    {
     "data": {
      "text/plain": [
       "array([[False, False, False, False],\n",
       "       [False, False, False, False],\n",
       "       [False, False, False, False]])"
      ]
     },
     "execution_count": 22,
     "metadata": {},
     "output_type": "execute_result"
    }
   ],
   "source": [
    "mtx1 == mtx2"
   ]
  },
  {
   "cell_type": "code",
   "execution_count": 25,
   "id": "bef95530-a8ad-417c-be52-f6cc26f3c6af",
   "metadata": {},
   "outputs": [
    {
     "data": {
      "text/plain": [
       "array([[ True,  True,  True,  True],\n",
       "       [ True,  True,  True,  True],\n",
       "       [ True,  True,  True,  True]])"
      ]
     },
     "execution_count": 25,
     "metadata": {},
     "output_type": "execute_result"
    }
   ],
   "source": [
    "mtx1 != mtx2"
   ]
  },
  {
   "cell_type": "code",
   "execution_count": 26,
   "id": "eb6dc977-36c8-496d-ac02-a2f34a4043e4",
   "metadata": {},
   "outputs": [
    {
     "data": {
      "text/plain": [
       "array([[ True,  True,  True,  True],\n",
       "       [ True,  True,  True,  True],\n",
       "       [ True,  True,  True,  True]])"
      ]
     },
     "execution_count": 26,
     "metadata": {},
     "output_type": "execute_result"
    }
   ],
   "source": [
    "mtx1 <= mtx2"
   ]
  },
  {
   "cell_type": "code",
   "execution_count": 27,
   "id": "8cc7c723-0e7a-46fa-9502-b538230e63e0",
   "metadata": {},
   "outputs": [
    {
     "data": {
      "text/plain": [
       "array([[False, False, False, False],\n",
       "       [False, False, False, False],\n",
       "       [False, False, False, False]])"
      ]
     },
     "execution_count": 27,
     "metadata": {},
     "output_type": "execute_result"
    }
   ],
   "source": [
    "mtx1 >= mtx2"
   ]
  },
  {
   "cell_type": "code",
   "execution_count": 29,
   "id": "e5505b59-a11e-4308-bd5e-8fdd715d7498",
   "metadata": {},
   "outputs": [
    {
     "data": {
      "text/plain": [
       "array([[False, False, False, False],\n",
       "       [False, False, False, False],\n",
       "       [False, False, False, False]])"
      ]
     },
     "execution_count": 29,
     "metadata": {},
     "output_type": "execute_result"
    }
   ],
   "source": [
    "mtx1 > mtx2"
   ]
  },
  {
   "cell_type": "code",
   "execution_count": 30,
   "id": "4fc045d1-ce2a-4271-be56-0eafd54db4f6",
   "metadata": {},
   "outputs": [],
   "source": [
    "import pandas as pd"
   ]
  },
  {
   "cell_type": "code",
   "execution_count": null,
   "id": "decdd3ae-13d9-4d83-b899-a10e0cead1f6",
   "metadata": {},
   "outputs": [],
   "source": []
  }
 ],
 "metadata": {
  "kernelspec": {
   "display_name": "Python 3 (ipykernel)",
   "language": "python",
   "name": "python3"
  },
  "language_info": {
   "codemirror_mode": {
    "name": "ipython",
    "version": 3
   },
   "file_extension": ".py",
   "mimetype": "text/x-python",
   "name": "python",
   "nbconvert_exporter": "python",
   "pygments_lexer": "ipython3",
   "version": "3.9.12"
  }
 },
 "nbformat": 4,
 "nbformat_minor": 5
}
